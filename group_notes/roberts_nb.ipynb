{
 "cells": [
  {
   "cell_type": "markdown",
   "metadata": {},
   "source": [
    "## Working through Robert's Notebook:"
   ]
  },
  {
   "cell_type": "markdown",
   "metadata": {},
   "source": [
    "### Imports:"
   ]
  },
  {
   "cell_type": "code",
   "execution_count": 3,
   "metadata": {},
   "outputs": [],
   "source": [
    "import pandas as pd"
   ]
  },
  {
   "cell_type": "code",
   "execution_count": 4,
   "metadata": {},
   "outputs": [],
   "source": [
    "parent_dir = '../'"
   ]
  },
  {
   "cell_type": "markdown",
   "metadata": {},
   "source": [
    "### EDA:"
   ]
  },
  {
   "cell_type": "code",
   "execution_count": 5,
   "metadata": {},
   "outputs": [
    {
     "data": {
      "text/html": [
       "<div>\n",
       "<style scoped>\n",
       "    .dataframe tbody tr th:only-of-type {\n",
       "        vertical-align: middle;\n",
       "    }\n",
       "\n",
       "    .dataframe tbody tr th {\n",
       "        vertical-align: top;\n",
       "    }\n",
       "\n",
       "    .dataframe thead th {\n",
       "        text-align: right;\n",
       "    }\n",
       "</style>\n",
       "<table border=\"1\" class=\"dataframe\">\n",
       "  <thead>\n",
       "    <tr style=\"text-align: right;\">\n",
       "      <th></th>\n",
       "      <th>CET</th>\n",
       "      <th>Max TemperatureC</th>\n",
       "      <th>Mean TemperatureC</th>\n",
       "      <th>Min TemperatureC</th>\n",
       "      <th>Dew PointC</th>\n",
       "      <th>MeanDew PointC</th>\n",
       "      <th>Min DewpointC</th>\n",
       "      <th>Max Humidity</th>\n",
       "      <th>Mean Humidity</th>\n",
       "      <th>Min Humidity</th>\n",
       "      <th>...</th>\n",
       "      <th>Max VisibilityKm</th>\n",
       "      <th>Mean VisibilityKm</th>\n",
       "      <th>Min VisibilitykM</th>\n",
       "      <th>Max Wind SpeedKm/h</th>\n",
       "      <th>Mean Wind SpeedKm/h</th>\n",
       "      <th>Max Gust SpeedKm/h</th>\n",
       "      <th>Precipitationmm</th>\n",
       "      <th>CloudCover</th>\n",
       "      <th>Events</th>\n",
       "      <th>WindDirDegrees</th>\n",
       "    </tr>\n",
       "  </thead>\n",
       "  <tbody>\n",
       "    <tr>\n",
       "      <td>0</td>\n",
       "      <td>1997-1-1</td>\n",
       "      <td>7.0</td>\n",
       "      <td>4.0</td>\n",
       "      <td>2.0</td>\n",
       "      <td>5.0</td>\n",
       "      <td>3.0</td>\n",
       "      <td>2.0</td>\n",
       "      <td>100.0</td>\n",
       "      <td>95.0</td>\n",
       "      <td>76.0</td>\n",
       "      <td>...</td>\n",
       "      <td>10.0</td>\n",
       "      <td>9.0</td>\n",
       "      <td>4.0</td>\n",
       "      <td>13</td>\n",
       "      <td>6</td>\n",
       "      <td>NaN</td>\n",
       "      <td>0.0</td>\n",
       "      <td>6.0</td>\n",
       "      <td>NaN</td>\n",
       "      <td>229</td>\n",
       "    </tr>\n",
       "    <tr>\n",
       "      <td>1</td>\n",
       "      <td>1997-1-2</td>\n",
       "      <td>7.0</td>\n",
       "      <td>3.0</td>\n",
       "      <td>0.0</td>\n",
       "      <td>6.0</td>\n",
       "      <td>3.0</td>\n",
       "      <td>0.0</td>\n",
       "      <td>100.0</td>\n",
       "      <td>92.0</td>\n",
       "      <td>71.0</td>\n",
       "      <td>...</td>\n",
       "      <td>10.0</td>\n",
       "      <td>9.0</td>\n",
       "      <td>4.0</td>\n",
       "      <td>26</td>\n",
       "      <td>8</td>\n",
       "      <td>47.0</td>\n",
       "      <td>0.0</td>\n",
       "      <td>5.0</td>\n",
       "      <td>Rain</td>\n",
       "      <td>143</td>\n",
       "    </tr>\n",
       "    <tr>\n",
       "      <td>2</td>\n",
       "      <td>1997-1-3</td>\n",
       "      <td>5.0</td>\n",
       "      <td>3.0</td>\n",
       "      <td>2.0</td>\n",
       "      <td>5.0</td>\n",
       "      <td>1.0</td>\n",
       "      <td>-1.0</td>\n",
       "      <td>100.0</td>\n",
       "      <td>85.0</td>\n",
       "      <td>70.0</td>\n",
       "      <td>...</td>\n",
       "      <td>10.0</td>\n",
       "      <td>10.0</td>\n",
       "      <td>7.0</td>\n",
       "      <td>27</td>\n",
       "      <td>19</td>\n",
       "      <td>NaN</td>\n",
       "      <td>0.0</td>\n",
       "      <td>6.0</td>\n",
       "      <td>Rain-Snow</td>\n",
       "      <td>256</td>\n",
       "    </tr>\n",
       "    <tr>\n",
       "      <td>3</td>\n",
       "      <td>1997-1-4</td>\n",
       "      <td>7.0</td>\n",
       "      <td>3.0</td>\n",
       "      <td>-1.0</td>\n",
       "      <td>-2.0</td>\n",
       "      <td>-3.0</td>\n",
       "      <td>-4.0</td>\n",
       "      <td>86.0</td>\n",
       "      <td>63.0</td>\n",
       "      <td>49.0</td>\n",
       "      <td>...</td>\n",
       "      <td>10.0</td>\n",
       "      <td>10.0</td>\n",
       "      <td>10.0</td>\n",
       "      <td>27</td>\n",
       "      <td>19</td>\n",
       "      <td>40.0</td>\n",
       "      <td>0.0</td>\n",
       "      <td>2.0</td>\n",
       "      <td>NaN</td>\n",
       "      <td>284</td>\n",
       "    </tr>\n",
       "    <tr>\n",
       "      <td>4</td>\n",
       "      <td>1997-1-5</td>\n",
       "      <td>2.0</td>\n",
       "      <td>0.0</td>\n",
       "      <td>-1.0</td>\n",
       "      <td>2.0</td>\n",
       "      <td>0.0</td>\n",
       "      <td>-3.0</td>\n",
       "      <td>100.0</td>\n",
       "      <td>95.0</td>\n",
       "      <td>86.0</td>\n",
       "      <td>...</td>\n",
       "      <td>10.0</td>\n",
       "      <td>5.0</td>\n",
       "      <td>1.0</td>\n",
       "      <td>14</td>\n",
       "      <td>6</td>\n",
       "      <td>NaN</td>\n",
       "      <td>0.0</td>\n",
       "      <td>7.0</td>\n",
       "      <td>Snow</td>\n",
       "      <td>2</td>\n",
       "    </tr>\n",
       "  </tbody>\n",
       "</table>\n",
       "<p>5 rows × 23 columns</p>\n",
       "</div>"
      ],
      "text/plain": [
       "        CET  Max TemperatureC  Mean TemperatureC  Min TemperatureC  \\\n",
       "0  1997-1-1               7.0                4.0               2.0   \n",
       "1  1997-1-2               7.0                3.0               0.0   \n",
       "2  1997-1-3               5.0                3.0               2.0   \n",
       "3  1997-1-4               7.0                3.0              -1.0   \n",
       "4  1997-1-5               2.0                0.0              -1.0   \n",
       "\n",
       "   Dew PointC  MeanDew PointC  Min DewpointC  Max Humidity   Mean Humidity  \\\n",
       "0         5.0             3.0            2.0         100.0            95.0   \n",
       "1         6.0             3.0            0.0         100.0            92.0   \n",
       "2         5.0             1.0           -1.0         100.0            85.0   \n",
       "3        -2.0            -3.0           -4.0          86.0            63.0   \n",
       "4         2.0             0.0           -3.0         100.0            95.0   \n",
       "\n",
       "    Min Humidity  ...   Max VisibilityKm   Mean VisibilityKm  \\\n",
       "0           76.0  ...               10.0                 9.0   \n",
       "1           71.0  ...               10.0                 9.0   \n",
       "2           70.0  ...               10.0                10.0   \n",
       "3           49.0  ...               10.0                10.0   \n",
       "4           86.0  ...               10.0                 5.0   \n",
       "\n",
       "    Min VisibilitykM   Max Wind SpeedKm/h   Mean Wind SpeedKm/h  \\\n",
       "0                4.0                   13                     6   \n",
       "1                4.0                   26                     8   \n",
       "2                7.0                   27                    19   \n",
       "3               10.0                   27                    19   \n",
       "4                1.0                   14                     6   \n",
       "\n",
       "    Max Gust SpeedKm/h  Precipitationmm   CloudCover     Events  \\\n",
       "0                  NaN              0.0          6.0        NaN   \n",
       "1                 47.0              0.0          5.0       Rain   \n",
       "2                  NaN              0.0          6.0  Rain-Snow   \n",
       "3                 40.0              0.0          2.0        NaN   \n",
       "4                  NaN              0.0          7.0       Snow   \n",
       "\n",
       "   WindDirDegrees  \n",
       "0             229  \n",
       "1             143  \n",
       "2             256  \n",
       "3             284  \n",
       "4               2  \n",
       "\n",
       "[5 rows x 23 columns]"
      ]
     },
     "execution_count": 5,
     "metadata": {},
     "output_type": "execute_result"
    }
   ],
   "source": [
    "df_raw = pd.read_csv(parent_dir + 'data/weather_madrid_LEMD_1997_2015.csv')\n",
    "df_raw.head()"
   ]
  },
  {
   "cell_type": "markdown",
   "metadata": {},
   "source": [
    "Update the column names"
   ]
  },
  {
   "cell_type": "code",
   "execution_count": 6,
   "metadata": {},
   "outputs": [],
   "source": [
    "rename_dict =  {'CET'                           :'date',\n",
    "                'Max TemperatureC'              :'temperature_max',\n",
    "                'Mean TemperatureC'             :'temperature',\n",
    "                'Min TemperatureC'              :'temperature_min',\n",
    "                'Dew PointC'                    :'dewpoint_max',\n",
    "                'MeanDew PointC'                :'dewpoint',\n",
    "                'Min DewpointC'                 :'dewpoint_min',\n",
    "                'Max Humidity'                  :'humidity_max',\n",
    "                ' Mean Humidity'                :'humidity',\n",
    "                ' Min Humidity'                 :'humidity_min',\n",
    "                ' Max Sea Level PressurehPa'    :'pressure_max',\n",
    "                ' Mean Sea Level PressurehPa'   :'pressure',\n",
    "                ' Min Sea Level PressurehPa'    :'pressure_min',\n",
    "                ' Max VisibilityKm'             :'visibility_max',\n",
    "                ' Mean VisibilityKm'            :'visibility',\n",
    "                ' Min VisibilitykM'             :'visibility_min',\n",
    "                ' Max Wind SpeedKm/h'           :'windspeed_max',\n",
    "                ' Mean Wind SpeedKm/h'          :'windspeed',\n",
    "                ' Max Gust SpeedKm/h'           :'gustspeed',      \n",
    "                'Precipitationmm'               :'precipitation',\n",
    "                ' CloudCover'                   :'cloudcover',\n",
    "                ' Events'                       :'events',\n",
    "                'WindDirDegrees'                :'winddirection',\n",
    "                }"
   ]
  },
  {
   "cell_type": "code",
   "execution_count": 8,
   "metadata": {},
   "outputs": [],
   "source": [
    "df_raw.rename(columns = rename_dict, inplace = True)"
   ]
  },
  {
   "cell_type": "code",
   "execution_count": 9,
   "metadata": {},
   "outputs": [
    {
     "name": "stdout",
     "output_type": "stream",
     "text": [
      "<class 'pandas.core.frame.DataFrame'>\n",
      "RangeIndex: 6812 entries, 0 to 6811\n",
      "Data columns (total 23 columns):\n",
      "date               6812 non-null object\n",
      "temperature_max    6810 non-null float64\n",
      "temperature        6809 non-null float64\n",
      "temperature_min    6810 non-null float64\n",
      "dewpoint_max       6810 non-null float64\n",
      "dewpoint           6810 non-null float64\n",
      "dewpoint_min       6810 non-null float64\n",
      "humidity_max       6810 non-null float64\n",
      "humidity           6810 non-null float64\n",
      "humidity_min       6810 non-null float64\n",
      "pressure_max       6812 non-null int64\n",
      "pressure           6812 non-null int64\n",
      "pressure_min       6812 non-null int64\n",
      "visibility_max     5872 non-null float64\n",
      "visibility         5872 non-null float64\n",
      "visibility_min     5872 non-null float64\n",
      "windspeed_max      6812 non-null int64\n",
      "windspeed          6812 non-null int64\n",
      "gustspeed          3506 non-null float64\n",
      "precipitation      6812 non-null float64\n",
      "cloudcover         5440 non-null float64\n",
      "events             1798 non-null object\n",
      "winddirection      6812 non-null int64\n",
      "dtypes: float64(15), int64(6), object(2)\n",
      "memory usage: 1.2+ MB\n"
     ]
    }
   ],
   "source": [
    "df_raw.info()"
   ]
  },
  {
   "cell_type": "markdown",
   "metadata": {},
   "source": [
    "Convert date column to datetime object"
   ]
  },
  {
   "cell_type": "code",
   "execution_count": 11,
   "metadata": {},
   "outputs": [],
   "source": [
    "df_raw['date'] = pd.to_datetime(df_raw['date'])"
   ]
  },
  {
   "cell_type": "code",
   "execution_count": 14,
   "metadata": {},
   "outputs": [
    {
     "data": {
      "text/plain": [
       "pandas._libs.tslibs.timestamps.Timestamp"
      ]
     },
     "execution_count": 14,
     "metadata": {},
     "output_type": "execute_result"
    }
   ],
   "source": [
    "type(df_raw.date[0])"
   ]
  },
  {
   "cell_type": "markdown",
   "metadata": {},
   "source": [
    "Check the current shape of the df:"
   ]
  },
  {
   "cell_type": "code",
   "execution_count": 16,
   "metadata": {},
   "outputs": [
    {
     "data": {
      "text/plain": [
       "(6812, 23)"
      ]
     },
     "execution_count": 16,
     "metadata": {},
     "output_type": "execute_result"
    }
   ],
   "source": [
    "df_raw.shape"
   ]
  },
  {
   "cell_type": "markdown",
   "metadata": {},
   "source": [
    "The group decided that we would use the data after 2013 as the test data so we seperate that out here in order to not affect model design or exploration:"
   ]
  },
  {
   "cell_type": "code",
   "execution_count": 18,
   "metadata": {},
   "outputs": [],
   "source": [
    "(df,test_df) = (df_raw[df_raw.date.dt.year < 2013], df_raw[df_raw.date.dt.year >= 2013])"
   ]
  },
  {
   "cell_type": "code",
   "execution_count": 19,
   "metadata": {},
   "outputs": [
    {
     "data": {
      "text/plain": [
       "(5717, 23)"
      ]
     },
     "execution_count": 19,
     "metadata": {},
     "output_type": "execute_result"
    }
   ],
   "source": [
    "df.shape"
   ]
  },
  {
   "cell_type": "code",
   "execution_count": 20,
   "metadata": {},
   "outputs": [
    {
     "data": {
      "text/plain": [
       "(1095, 23)"
      ]
     },
     "execution_count": 20,
     "metadata": {},
     "output_type": "execute_result"
    }
   ],
   "source": [
    "test_df.shape"
   ]
  },
  {
   "cell_type": "code",
   "execution_count": 22,
   "metadata": {},
   "outputs": [
    {
     "data": {
      "text/html": [
       "<div>\n",
       "<style scoped>\n",
       "    .dataframe tbody tr th:only-of-type {\n",
       "        vertical-align: middle;\n",
       "    }\n",
       "\n",
       "    .dataframe tbody tr th {\n",
       "        vertical-align: top;\n",
       "    }\n",
       "\n",
       "    .dataframe thead th {\n",
       "        text-align: right;\n",
       "    }\n",
       "</style>\n",
       "<table border=\"1\" class=\"dataframe\">\n",
       "  <thead>\n",
       "    <tr style=\"text-align: right;\">\n",
       "      <th></th>\n",
       "      <th>count</th>\n",
       "      <th>mean</th>\n",
       "      <th>std</th>\n",
       "      <th>min</th>\n",
       "      <th>25%</th>\n",
       "      <th>50%</th>\n",
       "      <th>75%</th>\n",
       "      <th>max</th>\n",
       "    </tr>\n",
       "  </thead>\n",
       "  <tbody>\n",
       "    <tr>\n",
       "      <td>temperature_max</td>\n",
       "      <td>5715.0</td>\n",
       "      <td>20.875941</td>\n",
       "      <td>8.841317</td>\n",
       "      <td>0.0</td>\n",
       "      <td>13.0</td>\n",
       "      <td>20.0</td>\n",
       "      <td>29.0</td>\n",
       "      <td>41.0</td>\n",
       "    </tr>\n",
       "    <tr>\n",
       "      <td>temperature</td>\n",
       "      <td>5714.0</td>\n",
       "      <td>14.519776</td>\n",
       "      <td>7.565159</td>\n",
       "      <td>-3.0</td>\n",
       "      <td>8.0</td>\n",
       "      <td>14.0</td>\n",
       "      <td>21.0</td>\n",
       "      <td>32.0</td>\n",
       "    </tr>\n",
       "    <tr>\n",
       "      <td>temperature_min</td>\n",
       "      <td>5715.0</td>\n",
       "      <td>8.587402</td>\n",
       "      <td>6.832758</td>\n",
       "      <td>-10.0</td>\n",
       "      <td>3.0</td>\n",
       "      <td>9.0</td>\n",
       "      <td>14.0</td>\n",
       "      <td>28.0</td>\n",
       "    </tr>\n",
       "    <tr>\n",
       "      <td>dewpoint_max</td>\n",
       "      <td>5715.0</td>\n",
       "      <td>8.030796</td>\n",
       "      <td>4.783309</td>\n",
       "      <td>-12.0</td>\n",
       "      <td>5.0</td>\n",
       "      <td>8.0</td>\n",
       "      <td>12.0</td>\n",
       "      <td>20.0</td>\n",
       "    </tr>\n",
       "    <tr>\n",
       "      <td>dewpoint</td>\n",
       "      <td>5715.0</td>\n",
       "      <td>4.902012</td>\n",
       "      <td>4.694278</td>\n",
       "      <td>-15.0</td>\n",
       "      <td>2.0</td>\n",
       "      <td>5.0</td>\n",
       "      <td>8.0</td>\n",
       "      <td>16.0</td>\n",
       "    </tr>\n",
       "    <tr>\n",
       "      <td>dewpoint_min</td>\n",
       "      <td>5715.0</td>\n",
       "      <td>1.415923</td>\n",
       "      <td>4.958462</td>\n",
       "      <td>-22.0</td>\n",
       "      <td>-2.0</td>\n",
       "      <td>2.0</td>\n",
       "      <td>5.0</td>\n",
       "      <td>14.0</td>\n",
       "    </tr>\n",
       "    <tr>\n",
       "      <td>humidity_max</td>\n",
       "      <td>5715.0</td>\n",
       "      <td>81.137533</td>\n",
       "      <td>17.396003</td>\n",
       "      <td>16.0</td>\n",
       "      <td>68.0</td>\n",
       "      <td>87.0</td>\n",
       "      <td>94.0</td>\n",
       "      <td>100.0</td>\n",
       "    </tr>\n",
       "    <tr>\n",
       "      <td>humidity</td>\n",
       "      <td>5715.0</td>\n",
       "      <td>58.456868</td>\n",
       "      <td>19.629104</td>\n",
       "      <td>15.0</td>\n",
       "      <td>42.0</td>\n",
       "      <td>59.0</td>\n",
       "      <td>75.0</td>\n",
       "      <td>100.0</td>\n",
       "    </tr>\n",
       "    <tr>\n",
       "      <td>humidity_min</td>\n",
       "      <td>5715.0</td>\n",
       "      <td>36.221347</td>\n",
       "      <td>19.221618</td>\n",
       "      <td>4.0</td>\n",
       "      <td>20.0</td>\n",
       "      <td>33.0</td>\n",
       "      <td>49.0</td>\n",
       "      <td>100.0</td>\n",
       "    </tr>\n",
       "    <tr>\n",
       "      <td>pressure_max</td>\n",
       "      <td>5717.0</td>\n",
       "      <td>1020.398461</td>\n",
       "      <td>6.068196</td>\n",
       "      <td>996.0</td>\n",
       "      <td>1017.0</td>\n",
       "      <td>1020.0</td>\n",
       "      <td>1024.0</td>\n",
       "      <td>1041.0</td>\n",
       "    </tr>\n",
       "    <tr>\n",
       "      <td>pressure</td>\n",
       "      <td>5717.0</td>\n",
       "      <td>1018.003848</td>\n",
       "      <td>6.394319</td>\n",
       "      <td>990.0</td>\n",
       "      <td>1014.0</td>\n",
       "      <td>1018.0</td>\n",
       "      <td>1022.0</td>\n",
       "      <td>1040.0</td>\n",
       "    </tr>\n",
       "    <tr>\n",
       "      <td>pressure_min</td>\n",
       "      <td>5717.0</td>\n",
       "      <td>1015.529823</td>\n",
       "      <td>6.801470</td>\n",
       "      <td>965.0</td>\n",
       "      <td>1012.0</td>\n",
       "      <td>1016.0</td>\n",
       "      <td>1020.0</td>\n",
       "      <td>1038.0</td>\n",
       "    </tr>\n",
       "    <tr>\n",
       "      <td>visibility_max</td>\n",
       "      <td>4777.0</td>\n",
       "      <td>11.010467</td>\n",
       "      <td>4.675784</td>\n",
       "      <td>1.0</td>\n",
       "      <td>10.0</td>\n",
       "      <td>10.0</td>\n",
       "      <td>10.0</td>\n",
       "      <td>31.0</td>\n",
       "    </tr>\n",
       "    <tr>\n",
       "      <td>visibility</td>\n",
       "      <td>4777.0</td>\n",
       "      <td>9.919824</td>\n",
       "      <td>3.066143</td>\n",
       "      <td>0.0</td>\n",
       "      <td>10.0</td>\n",
       "      <td>10.0</td>\n",
       "      <td>10.0</td>\n",
       "      <td>31.0</td>\n",
       "    </tr>\n",
       "    <tr>\n",
       "      <td>visibility_min</td>\n",
       "      <td>4777.0</td>\n",
       "      <td>8.504919</td>\n",
       "      <td>3.895358</td>\n",
       "      <td>0.0</td>\n",
       "      <td>7.0</td>\n",
       "      <td>10.0</td>\n",
       "      <td>10.0</td>\n",
       "      <td>31.0</td>\n",
       "    </tr>\n",
       "    <tr>\n",
       "      <td>windspeed_max</td>\n",
       "      <td>5717.0</td>\n",
       "      <td>21.658037</td>\n",
       "      <td>9.784401</td>\n",
       "      <td>0.0</td>\n",
       "      <td>13.0</td>\n",
       "      <td>21.0</td>\n",
       "      <td>27.0</td>\n",
       "      <td>182.0</td>\n",
       "    </tr>\n",
       "    <tr>\n",
       "      <td>windspeed</td>\n",
       "      <td>5717.0</td>\n",
       "      <td>9.006297</td>\n",
       "      <td>5.081384</td>\n",
       "      <td>0.0</td>\n",
       "      <td>5.0</td>\n",
       "      <td>8.0</td>\n",
       "      <td>11.0</td>\n",
       "      <td>39.0</td>\n",
       "    </tr>\n",
       "    <tr>\n",
       "      <td>gustspeed</td>\n",
       "      <td>2682.0</td>\n",
       "      <td>43.663311</td>\n",
       "      <td>12.337341</td>\n",
       "      <td>19.0</td>\n",
       "      <td>35.0</td>\n",
       "      <td>42.0</td>\n",
       "      <td>52.0</td>\n",
       "      <td>103.0</td>\n",
       "    </tr>\n",
       "    <tr>\n",
       "      <td>precipitation</td>\n",
       "      <td>5717.0</td>\n",
       "      <td>0.020388</td>\n",
       "      <td>0.507565</td>\n",
       "      <td>0.0</td>\n",
       "      <td>0.0</td>\n",
       "      <td>0.0</td>\n",
       "      <td>0.0</td>\n",
       "      <td>32.0</td>\n",
       "    </tr>\n",
       "    <tr>\n",
       "      <td>cloudcover</td>\n",
       "      <td>4630.0</td>\n",
       "      <td>3.239525</td>\n",
       "      <td>1.792508</td>\n",
       "      <td>0.0</td>\n",
       "      <td>2.0</td>\n",
       "      <td>3.0</td>\n",
       "      <td>5.0</td>\n",
       "      <td>8.0</td>\n",
       "    </tr>\n",
       "    <tr>\n",
       "      <td>winddirection</td>\n",
       "      <td>5717.0</td>\n",
       "      <td>195.519853</td>\n",
       "      <td>120.985340</td>\n",
       "      <td>-1.0</td>\n",
       "      <td>60.0</td>\n",
       "      <td>223.0</td>\n",
       "      <td>299.0</td>\n",
       "      <td>360.0</td>\n",
       "    </tr>\n",
       "  </tbody>\n",
       "</table>\n",
       "</div>"
      ],
      "text/plain": [
       "                  count         mean         std    min     25%     50%  \\\n",
       "temperature_max  5715.0    20.875941    8.841317    0.0    13.0    20.0   \n",
       "temperature      5714.0    14.519776    7.565159   -3.0     8.0    14.0   \n",
       "temperature_min  5715.0     8.587402    6.832758  -10.0     3.0     9.0   \n",
       "dewpoint_max     5715.0     8.030796    4.783309  -12.0     5.0     8.0   \n",
       "dewpoint         5715.0     4.902012    4.694278  -15.0     2.0     5.0   \n",
       "dewpoint_min     5715.0     1.415923    4.958462  -22.0    -2.0     2.0   \n",
       "humidity_max     5715.0    81.137533   17.396003   16.0    68.0    87.0   \n",
       "humidity         5715.0    58.456868   19.629104   15.0    42.0    59.0   \n",
       "humidity_min     5715.0    36.221347   19.221618    4.0    20.0    33.0   \n",
       "pressure_max     5717.0  1020.398461    6.068196  996.0  1017.0  1020.0   \n",
       "pressure         5717.0  1018.003848    6.394319  990.0  1014.0  1018.0   \n",
       "pressure_min     5717.0  1015.529823    6.801470  965.0  1012.0  1016.0   \n",
       "visibility_max   4777.0    11.010467    4.675784    1.0    10.0    10.0   \n",
       "visibility       4777.0     9.919824    3.066143    0.0    10.0    10.0   \n",
       "visibility_min   4777.0     8.504919    3.895358    0.0     7.0    10.0   \n",
       "windspeed_max    5717.0    21.658037    9.784401    0.0    13.0    21.0   \n",
       "windspeed        5717.0     9.006297    5.081384    0.0     5.0     8.0   \n",
       "gustspeed        2682.0    43.663311   12.337341   19.0    35.0    42.0   \n",
       "precipitation    5717.0     0.020388    0.507565    0.0     0.0     0.0   \n",
       "cloudcover       4630.0     3.239525    1.792508    0.0     2.0     3.0   \n",
       "winddirection    5717.0   195.519853  120.985340   -1.0    60.0   223.0   \n",
       "\n",
       "                    75%     max  \n",
       "temperature_max    29.0    41.0  \n",
       "temperature        21.0    32.0  \n",
       "temperature_min    14.0    28.0  \n",
       "dewpoint_max       12.0    20.0  \n",
       "dewpoint            8.0    16.0  \n",
       "dewpoint_min        5.0    14.0  \n",
       "humidity_max       94.0   100.0  \n",
       "humidity           75.0   100.0  \n",
       "humidity_min       49.0   100.0  \n",
       "pressure_max     1024.0  1041.0  \n",
       "pressure         1022.0  1040.0  \n",
       "pressure_min     1020.0  1038.0  \n",
       "visibility_max     10.0    31.0  \n",
       "visibility         10.0    31.0  \n",
       "visibility_min     10.0    31.0  \n",
       "windspeed_max      27.0   182.0  \n",
       "windspeed          11.0    39.0  \n",
       "gustspeed          52.0   103.0  \n",
       "precipitation       0.0    32.0  \n",
       "cloudcover          5.0     8.0  \n",
       "winddirection     299.0   360.0  "
      ]
     },
     "execution_count": 22,
     "metadata": {},
     "output_type": "execute_result"
    }
   ],
   "source": [
    "df.describe().T"
   ]
  },
  {
   "cell_type": "code",
   "execution_count": 24,
   "metadata": {},
   "outputs": [
    {
     "data": {
      "text/plain": [
       "Timestamp('1997-01-01 00:00:00')"
      ]
     },
     "execution_count": 24,
     "metadata": {},
     "output_type": "execute_result"
    }
   ],
   "source": [
    "df.date.min()"
   ]
  },
  {
   "cell_type": "code",
   "execution_count": 25,
   "metadata": {},
   "outputs": [
    {
     "data": {
      "text/plain": [
       "Timestamp('2012-12-31 00:00:00')"
      ]
     },
     "execution_count": 25,
     "metadata": {},
     "output_type": "execute_result"
    }
   ],
   "source": [
    "df.date.max()"
   ]
  },
  {
   "cell_type": "code",
   "execution_count": 26,
   "metadata": {},
   "outputs": [],
   "source": [
    "dr = pd.date_range(df.date.min(), df.date.max())"
   ]
  },
  {
   "cell_type": "code",
   "execution_count": 29,
   "metadata": {},
   "outputs": [],
   "source": [
    "date_range = pd.Series(dr)"
   ]
  },
  {
   "cell_type": "code",
   "execution_count": 30,
   "metadata": {},
   "outputs": [
    {
     "data": {
      "text/plain": [
       "0      1997-01-01\n",
       "1      1997-01-02\n",
       "2      1997-01-03\n",
       "3      1997-01-04\n",
       "4      1997-01-05\n",
       "          ...    \n",
       "5839   2012-12-27\n",
       "5840   2012-12-28\n",
       "5841   2012-12-29\n",
       "5842   2012-12-30\n",
       "5843   2012-12-31\n",
       "Length: 5844, dtype: datetime64[ns]"
      ]
     },
     "execution_count": 30,
     "metadata": {},
     "output_type": "execute_result"
    }
   ],
   "source": [
    "date_range"
   ]
  },
  {
   "cell_type": "markdown",
   "metadata": {},
   "source": [
    "Now that we have a date range, we can check to see if there are any days missing from the dataset:"
   ]
  },
  {
   "cell_type": "code",
   "execution_count": 31,
   "metadata": {},
   "outputs": [
    {
     "data": {
      "text/plain": [
       "5717"
      ]
     },
     "execution_count": 31,
     "metadata": {},
     "output_type": "execute_result"
    }
   ],
   "source": [
    "len(df)"
   ]
  },
  {
   "cell_type": "code",
   "execution_count": 32,
   "metadata": {},
   "outputs": [
    {
     "data": {
      "text/plain": [
       "5844"
      ]
     },
     "execution_count": 32,
     "metadata": {},
     "output_type": "execute_result"
    }
   ],
   "source": [
    "len(date_range)"
   ]
  },
  {
   "cell_type": "code",
   "execution_count": 33,
   "metadata": {},
   "outputs": [
    {
     "data": {
      "text/plain": [
       "127"
      ]
     },
     "execution_count": 33,
     "metadata": {},
     "output_type": "execute_result"
    }
   ],
   "source": [
    "len(date_range) - len(df)"
   ]
  },
  {
   "cell_type": "markdown",
   "metadata": {},
   "source": [
    "So we can see there are 127 days missing from the dataframe.  \n",
    "\n",
    "Let's also check to see if there are any days that don't have temperatures:"
   ]
  },
  {
   "cell_type": "code",
   "execution_count": 39,
   "metadata": {},
   "outputs": [
    {
     "data": {
      "text/plain": [
       "3"
      ]
     },
     "execution_count": 39,
     "metadata": {},
     "output_type": "execute_result"
    }
   ],
   "source": [
    "len(df) - df.temperature.count()"
   ]
  },
  {
   "cell_type": "markdown",
   "metadata": {},
   "source": [
    "Or you could also do:"
   ]
  },
  {
   "cell_type": "code",
   "execution_count": 41,
   "metadata": {},
   "outputs": [
    {
     "data": {
      "text/plain": [
       "3"
      ]
     },
     "execution_count": 41,
     "metadata": {},
     "output_type": "execute_result"
    }
   ],
   "source": [
    "df.temperature.isnull().sum()"
   ]
  },
  {
   "cell_type": "markdown",
   "metadata": {},
   "source": [
    "So there are 3 days that don't have temperature data.\n",
    "\n",
    "Let's check the test data to see if there's anything missing:"
   ]
  },
  {
   "cell_type": "code",
   "execution_count": 43,
   "metadata": {},
   "outputs": [],
   "source": [
    "test_dr = pd.Series(pd.date_range(test_df.date.min(), test_df.date.max()))"
   ]
  },
  {
   "cell_type": "code",
   "execution_count": null,
   "metadata": {},
   "outputs": [],
   "source": []
  }
 ],
 "metadata": {
  "kernelspec": {
   "display_name": "learn-env",
   "language": "python",
   "name": "learn-env"
  },
  "language_info": {
   "codemirror_mode": {
    "name": "ipython",
    "version": 3
   },
   "file_extension": ".py",
   "mimetype": "text/x-python",
   "name": "python",
   "nbconvert_exporter": "python",
   "pygments_lexer": "ipython3",
   "version": "3.6.9"
  }
 },
 "nbformat": 4,
 "nbformat_minor": 4
}
