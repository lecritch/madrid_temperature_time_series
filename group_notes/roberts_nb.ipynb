{
 "cells": [
  {
   "cell_type": "markdown",
   "metadata": {},
   "source": [
    "## Working through Robert's Notebook:"
   ]
  },
  {
   "cell_type": "markdown",
   "metadata": {},
   "source": [
    "### Imports:"
   ]
  },
  {
   "cell_type": "code",
   "execution_count": 3,
   "metadata": {},
   "outputs": [],
   "source": [
    "import pandas as pd"
   ]
  },
  {
   "cell_type": "code",
   "execution_count": 4,
   "metadata": {},
   "outputs": [],
   "source": [
    "parent_dir = '../'"
   ]
  },
  {
   "cell_type": "markdown",
   "metadata": {},
   "source": [
    "### EDA:"
   ]
  },
  {
   "cell_type": "code",
   "execution_count": 5,
   "metadata": {},
   "outputs": [
    {
     "data": {
      "text/html": [
       "<div>\n",
       "<style scoped>\n",
       "    .dataframe tbody tr th:only-of-type {\n",
       "        vertical-align: middle;\n",
       "    }\n",
       "\n",
       "    .dataframe tbody tr th {\n",
       "        vertical-align: top;\n",
       "    }\n",
       "\n",
       "    .dataframe thead th {\n",
       "        text-align: right;\n",
       "    }\n",
       "</style>\n",
       "<table border=\"1\" class=\"dataframe\">\n",
       "  <thead>\n",
       "    <tr style=\"text-align: right;\">\n",
       "      <th></th>\n",
       "      <th>CET</th>\n",
       "      <th>Max TemperatureC</th>\n",
       "      <th>Mean TemperatureC</th>\n",
       "      <th>Min TemperatureC</th>\n",
       "      <th>Dew PointC</th>\n",
       "      <th>MeanDew PointC</th>\n",
       "      <th>Min DewpointC</th>\n",
       "      <th>Max Humidity</th>\n",
       "      <th>Mean Humidity</th>\n",
       "      <th>Min Humidity</th>\n",
       "      <th>...</th>\n",
       "      <th>Max VisibilityKm</th>\n",
       "      <th>Mean VisibilityKm</th>\n",
       "      <th>Min VisibilitykM</th>\n",
       "      <th>Max Wind SpeedKm/h</th>\n",
       "      <th>Mean Wind SpeedKm/h</th>\n",
       "      <th>Max Gust SpeedKm/h</th>\n",
       "      <th>Precipitationmm</th>\n",
       "      <th>CloudCover</th>\n",
       "      <th>Events</th>\n",
       "      <th>WindDirDegrees</th>\n",
       "    </tr>\n",
       "  </thead>\n",
       "  <tbody>\n",
       "    <tr>\n",
       "      <td>0</td>\n",
       "      <td>1997-1-1</td>\n",
       "      <td>7.0</td>\n",
       "      <td>4.0</td>\n",
       "      <td>2.0</td>\n",
       "      <td>5.0</td>\n",
       "      <td>3.0</td>\n",
       "      <td>2.0</td>\n",
       "      <td>100.0</td>\n",
       "      <td>95.0</td>\n",
       "      <td>76.0</td>\n",
       "      <td>...</td>\n",
       "      <td>10.0</td>\n",
       "      <td>9.0</td>\n",
       "      <td>4.0</td>\n",
       "      <td>13</td>\n",
       "      <td>6</td>\n",
       "      <td>NaN</td>\n",
       "      <td>0.0</td>\n",
       "      <td>6.0</td>\n",
       "      <td>NaN</td>\n",
       "      <td>229</td>\n",
       "    </tr>\n",
       "    <tr>\n",
       "      <td>1</td>\n",
       "      <td>1997-1-2</td>\n",
       "      <td>7.0</td>\n",
       "      <td>3.0</td>\n",
       "      <td>0.0</td>\n",
       "      <td>6.0</td>\n",
       "      <td>3.0</td>\n",
       "      <td>0.0</td>\n",
       "      <td>100.0</td>\n",
       "      <td>92.0</td>\n",
       "      <td>71.0</td>\n",
       "      <td>...</td>\n",
       "      <td>10.0</td>\n",
       "      <td>9.0</td>\n",
       "      <td>4.0</td>\n",
       "      <td>26</td>\n",
       "      <td>8</td>\n",
       "      <td>47.0</td>\n",
       "      <td>0.0</td>\n",
       "      <td>5.0</td>\n",
       "      <td>Rain</td>\n",
       "      <td>143</td>\n",
       "    </tr>\n",
       "    <tr>\n",
       "      <td>2</td>\n",
       "      <td>1997-1-3</td>\n",
       "      <td>5.0</td>\n",
       "      <td>3.0</td>\n",
       "      <td>2.0</td>\n",
       "      <td>5.0</td>\n",
       "      <td>1.0</td>\n",
       "      <td>-1.0</td>\n",
       "      <td>100.0</td>\n",
       "      <td>85.0</td>\n",
       "      <td>70.0</td>\n",
       "      <td>...</td>\n",
       "      <td>10.0</td>\n",
       "      <td>10.0</td>\n",
       "      <td>7.0</td>\n",
       "      <td>27</td>\n",
       "      <td>19</td>\n",
       "      <td>NaN</td>\n",
       "      <td>0.0</td>\n",
       "      <td>6.0</td>\n",
       "      <td>Rain-Snow</td>\n",
       "      <td>256</td>\n",
       "    </tr>\n",
       "    <tr>\n",
       "      <td>3</td>\n",
       "      <td>1997-1-4</td>\n",
       "      <td>7.0</td>\n",
       "      <td>3.0</td>\n",
       "      <td>-1.0</td>\n",
       "      <td>-2.0</td>\n",
       "      <td>-3.0</td>\n",
       "      <td>-4.0</td>\n",
       "      <td>86.0</td>\n",
       "      <td>63.0</td>\n",
       "      <td>49.0</td>\n",
       "      <td>...</td>\n",
       "      <td>10.0</td>\n",
       "      <td>10.0</td>\n",
       "      <td>10.0</td>\n",
       "      <td>27</td>\n",
       "      <td>19</td>\n",
       "      <td>40.0</td>\n",
       "      <td>0.0</td>\n",
       "      <td>2.0</td>\n",
       "      <td>NaN</td>\n",
       "      <td>284</td>\n",
       "    </tr>\n",
       "    <tr>\n",
       "      <td>4</td>\n",
       "      <td>1997-1-5</td>\n",
       "      <td>2.0</td>\n",
       "      <td>0.0</td>\n",
       "      <td>-1.0</td>\n",
       "      <td>2.0</td>\n",
       "      <td>0.0</td>\n",
       "      <td>-3.0</td>\n",
       "      <td>100.0</td>\n",
       "      <td>95.0</td>\n",
       "      <td>86.0</td>\n",
       "      <td>...</td>\n",
       "      <td>10.0</td>\n",
       "      <td>5.0</td>\n",
       "      <td>1.0</td>\n",
       "      <td>14</td>\n",
       "      <td>6</td>\n",
       "      <td>NaN</td>\n",
       "      <td>0.0</td>\n",
       "      <td>7.0</td>\n",
       "      <td>Snow</td>\n",
       "      <td>2</td>\n",
       "    </tr>\n",
       "  </tbody>\n",
       "</table>\n",
       "<p>5 rows × 23 columns</p>\n",
       "</div>"
      ],
      "text/plain": [
       "        CET  Max TemperatureC  Mean TemperatureC  Min TemperatureC  \\\n",
       "0  1997-1-1               7.0                4.0               2.0   \n",
       "1  1997-1-2               7.0                3.0               0.0   \n",
       "2  1997-1-3               5.0                3.0               2.0   \n",
       "3  1997-1-4               7.0                3.0              -1.0   \n",
       "4  1997-1-5               2.0                0.0              -1.0   \n",
       "\n",
       "   Dew PointC  MeanDew PointC  Min DewpointC  Max Humidity   Mean Humidity  \\\n",
       "0         5.0             3.0            2.0         100.0            95.0   \n",
       "1         6.0             3.0            0.0         100.0            92.0   \n",
       "2         5.0             1.0           -1.0         100.0            85.0   \n",
       "3        -2.0            -3.0           -4.0          86.0            63.0   \n",
       "4         2.0             0.0           -3.0         100.0            95.0   \n",
       "\n",
       "    Min Humidity  ...   Max VisibilityKm   Mean VisibilityKm  \\\n",
       "0           76.0  ...               10.0                 9.0   \n",
       "1           71.0  ...               10.0                 9.0   \n",
       "2           70.0  ...               10.0                10.0   \n",
       "3           49.0  ...               10.0                10.0   \n",
       "4           86.0  ...               10.0                 5.0   \n",
       "\n",
       "    Min VisibilitykM   Max Wind SpeedKm/h   Mean Wind SpeedKm/h  \\\n",
       "0                4.0                   13                     6   \n",
       "1                4.0                   26                     8   \n",
       "2                7.0                   27                    19   \n",
       "3               10.0                   27                    19   \n",
       "4                1.0                   14                     6   \n",
       "\n",
       "    Max Gust SpeedKm/h  Precipitationmm   CloudCover     Events  \\\n",
       "0                  NaN              0.0          6.0        NaN   \n",
       "1                 47.0              0.0          5.0       Rain   \n",
       "2                  NaN              0.0          6.0  Rain-Snow   \n",
       "3                 40.0              0.0          2.0        NaN   \n",
       "4                  NaN              0.0          7.0       Snow   \n",
       "\n",
       "   WindDirDegrees  \n",
       "0             229  \n",
       "1             143  \n",
       "2             256  \n",
       "3             284  \n",
       "4               2  \n",
       "\n",
       "[5 rows x 23 columns]"
      ]
     },
     "execution_count": 5,
     "metadata": {},
     "output_type": "execute_result"
    }
   ],
   "source": [
    "df_raw = pd.read_csv(parent_dir + 'data/weather_madrid_LEMD_1997_2015.csv')\n",
    "df_raw.head()"
   ]
  },
  {
   "cell_type": "markdown",
   "metadata": {},
   "source": [
    "Update the column names"
   ]
  },
  {
   "cell_type": "code",
   "execution_count": 6,
   "metadata": {},
   "outputs": [],
   "source": [
    "rename_dict =  {'CET'                           :'date',\n",
    "                'Max TemperatureC'              :'temperature_max',\n",
    "                'Mean TemperatureC'             :'temperature',\n",
    "                'Min TemperatureC'              :'temperature_min',\n",
    "                'Dew PointC'                    :'dewpoint_max',\n",
    "                'MeanDew PointC'                :'dewpoint',\n",
    "                'Min DewpointC'                 :'dewpoint_min',\n",
    "                'Max Humidity'                  :'humidity_max',\n",
    "                ' Mean Humidity'                :'humidity',\n",
    "                ' Min Humidity'                 :'humidity_min',\n",
    "                ' Max Sea Level PressurehPa'    :'pressure_max',\n",
    "                ' Mean Sea Level PressurehPa'   :'pressure',\n",
    "                ' Min Sea Level PressurehPa'    :'pressure_min',\n",
    "                ' Max VisibilityKm'             :'visibility_max',\n",
    "                ' Mean VisibilityKm'            :'visibility',\n",
    "                ' Min VisibilitykM'             :'visibility_min',\n",
    "                ' Max Wind SpeedKm/h'           :'windspeed_max',\n",
    "                ' Mean Wind SpeedKm/h'          :'windspeed',\n",
    "                ' Max Gust SpeedKm/h'           :'gustspeed',      \n",
    "                'Precipitationmm'               :'precipitation',\n",
    "                ' CloudCover'                   :'cloudcover',\n",
    "                ' Events'                       :'events',\n",
    "                'WindDirDegrees'                :'winddirection',\n",
    "                }"
   ]
  },
  {
   "cell_type": "code",
   "execution_count": 8,
   "metadata": {},
   "outputs": [],
   "source": [
    "df_raw.rename(columns = rename_dict, inplace = True)"
   ]
  },
  {
   "cell_type": "code",
   "execution_count": 9,
   "metadata": {},
   "outputs": [
    {
     "name": "stdout",
     "output_type": "stream",
     "text": [
      "<class 'pandas.core.frame.DataFrame'>\n",
      "RangeIndex: 6812 entries, 0 to 6811\n",
      "Data columns (total 23 columns):\n",
      "date               6812 non-null object\n",
      "temperature_max    6810 non-null float64\n",
      "temperature        6809 non-null float64\n",
      "temperature_min    6810 non-null float64\n",
      "dewpoint_max       6810 non-null float64\n",
      "dewpoint           6810 non-null float64\n",
      "dewpoint_min       6810 non-null float64\n",
      "humidity_max       6810 non-null float64\n",
      "humidity           6810 non-null float64\n",
      "humidity_min       6810 non-null float64\n",
      "pressure_max       6812 non-null int64\n",
      "pressure           6812 non-null int64\n",
      "pressure_min       6812 non-null int64\n",
      "visibility_max     5872 non-null float64\n",
      "visibility         5872 non-null float64\n",
      "visibility_min     5872 non-null float64\n",
      "windspeed_max      6812 non-null int64\n",
      "windspeed          6812 non-null int64\n",
      "gustspeed          3506 non-null float64\n",
      "precipitation      6812 non-null float64\n",
      "cloudcover         5440 non-null float64\n",
      "events             1798 non-null object\n",
      "winddirection      6812 non-null int64\n",
      "dtypes: float64(15), int64(6), object(2)\n",
      "memory usage: 1.2+ MB\n"
     ]
    }
   ],
   "source": [
    "df_raw.info()"
   ]
  },
  {
   "cell_type": "markdown",
   "metadata": {},
   "source": [
    "Convert date column to datetime object"
   ]
  },
  {
   "cell_type": "code",
   "execution_count": 11,
   "metadata": {},
   "outputs": [],
   "source": [
    "df_raw['date'] = pd.to_datetime(df_raw['date'])"
   ]
  },
  {
   "cell_type": "code",
   "execution_count": 14,
   "metadata": {},
   "outputs": [
    {
     "data": {
      "text/plain": [
       "pandas._libs.tslibs.timestamps.Timestamp"
      ]
     },
     "execution_count": 14,
     "metadata": {},
     "output_type": "execute_result"
    }
   ],
   "source": [
    "type(df_raw.date[0])"
   ]
  },
  {
   "cell_type": "code",
   "execution_count": null,
   "metadata": {},
   "outputs": [],
   "source": []
  }
 ],
 "metadata": {
  "kernelspec": {
   "display_name": "learn-env",
   "language": "python",
   "name": "learn-env"
  },
  "language_info": {
   "codemirror_mode": {
    "name": "ipython",
    "version": 3
   },
   "file_extension": ".py",
   "mimetype": "text/x-python",
   "name": "python",
   "nbconvert_exporter": "python",
   "pygments_lexer": "ipython3",
   "version": "3.6.9"
  }
 },
 "nbformat": 4,
 "nbformat_minor": 4
}
