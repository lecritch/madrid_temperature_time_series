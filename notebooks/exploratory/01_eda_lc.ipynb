{
 "cells": [
  {
   "cell_type": "markdown",
   "metadata": {},
   "source": [
    "# EDA\n",
    "\n",
    "This notebook imports the data and explores the current format including visualizing the data.  "
   ]
  },
  {
   "cell_type": "code",
   "execution_count": 1,
   "metadata": {},
   "outputs": [],
   "source": [
    "# imports \n",
    "import pandas as pd \n",
    "import numpy as np \n",
    "import re"
   ]
  },
  {
   "cell_type": "code",
   "execution_count": 2,
   "metadata": {},
   "outputs": [],
   "source": [
    "import os \n",
    "import sys\n",
    "\n",
    "module_path = os.path.abspath(os.path.join(os.pardir, os.pardir))\n",
    "if module_path not in sys.path:\n",
    "    sys.path.append(module_path)\n",
    "    \n",
    "from src import helpers as h"
   ]
  },
  {
   "cell_type": "code",
   "execution_count": 3,
   "metadata": {},
   "outputs": [],
   "source": [
    "parent_dir = '../../'"
   ]
  },
  {
   "cell_type": "code",
   "execution_count": 4,
   "metadata": {},
   "outputs": [],
   "source": [
    "df = pd.read_csv(parent_dir + 'data/weather_madrid_LEMD_1997_2015.csv', parse_dates = ['CET'])"
   ]
  },
  {
   "cell_type": "code",
   "execution_count": 5,
   "metadata": {},
   "outputs": [
    {
     "data": {
      "text/html": [
       "<div>\n",
       "<style scoped>\n",
       "    .dataframe tbody tr th:only-of-type {\n",
       "        vertical-align: middle;\n",
       "    }\n",
       "\n",
       "    .dataframe tbody tr th {\n",
       "        vertical-align: top;\n",
       "    }\n",
       "\n",
       "    .dataframe thead th {\n",
       "        text-align: right;\n",
       "    }\n",
       "</style>\n",
       "<table border=\"1\" class=\"dataframe\">\n",
       "  <thead>\n",
       "    <tr style=\"text-align: right;\">\n",
       "      <th></th>\n",
       "      <th>CET</th>\n",
       "      <th>Max TemperatureC</th>\n",
       "      <th>Mean TemperatureC</th>\n",
       "      <th>Min TemperatureC</th>\n",
       "      <th>Dew PointC</th>\n",
       "      <th>MeanDew PointC</th>\n",
       "      <th>Min DewpointC</th>\n",
       "      <th>Max Humidity</th>\n",
       "      <th>Mean Humidity</th>\n",
       "      <th>Min Humidity</th>\n",
       "      <th>...</th>\n",
       "      <th>Max VisibilityKm</th>\n",
       "      <th>Mean VisibilityKm</th>\n",
       "      <th>Min VisibilitykM</th>\n",
       "      <th>Max Wind SpeedKm/h</th>\n",
       "      <th>Mean Wind SpeedKm/h</th>\n",
       "      <th>Max Gust SpeedKm/h</th>\n",
       "      <th>Precipitationmm</th>\n",
       "      <th>CloudCover</th>\n",
       "      <th>Events</th>\n",
       "      <th>WindDirDegrees</th>\n",
       "    </tr>\n",
       "  </thead>\n",
       "  <tbody>\n",
       "    <tr>\n",
       "      <th>0</th>\n",
       "      <td>1997-01-01</td>\n",
       "      <td>7.0</td>\n",
       "      <td>4.0</td>\n",
       "      <td>2.0</td>\n",
       "      <td>5.0</td>\n",
       "      <td>3.0</td>\n",
       "      <td>2.0</td>\n",
       "      <td>100.0</td>\n",
       "      <td>95.0</td>\n",
       "      <td>76.0</td>\n",
       "      <td>...</td>\n",
       "      <td>10.0</td>\n",
       "      <td>9.0</td>\n",
       "      <td>4.0</td>\n",
       "      <td>13</td>\n",
       "      <td>6</td>\n",
       "      <td>NaN</td>\n",
       "      <td>0.0</td>\n",
       "      <td>6.0</td>\n",
       "      <td>NaN</td>\n",
       "      <td>229</td>\n",
       "    </tr>\n",
       "    <tr>\n",
       "      <th>1</th>\n",
       "      <td>1997-01-02</td>\n",
       "      <td>7.0</td>\n",
       "      <td>3.0</td>\n",
       "      <td>0.0</td>\n",
       "      <td>6.0</td>\n",
       "      <td>3.0</td>\n",
       "      <td>0.0</td>\n",
       "      <td>100.0</td>\n",
       "      <td>92.0</td>\n",
       "      <td>71.0</td>\n",
       "      <td>...</td>\n",
       "      <td>10.0</td>\n",
       "      <td>9.0</td>\n",
       "      <td>4.0</td>\n",
       "      <td>26</td>\n",
       "      <td>8</td>\n",
       "      <td>47.0</td>\n",
       "      <td>0.0</td>\n",
       "      <td>5.0</td>\n",
       "      <td>Rain</td>\n",
       "      <td>143</td>\n",
       "    </tr>\n",
       "    <tr>\n",
       "      <th>2</th>\n",
       "      <td>1997-01-03</td>\n",
       "      <td>5.0</td>\n",
       "      <td>3.0</td>\n",
       "      <td>2.0</td>\n",
       "      <td>5.0</td>\n",
       "      <td>1.0</td>\n",
       "      <td>-1.0</td>\n",
       "      <td>100.0</td>\n",
       "      <td>85.0</td>\n",
       "      <td>70.0</td>\n",
       "      <td>...</td>\n",
       "      <td>10.0</td>\n",
       "      <td>10.0</td>\n",
       "      <td>7.0</td>\n",
       "      <td>27</td>\n",
       "      <td>19</td>\n",
       "      <td>NaN</td>\n",
       "      <td>0.0</td>\n",
       "      <td>6.0</td>\n",
       "      <td>Rain-Snow</td>\n",
       "      <td>256</td>\n",
       "    </tr>\n",
       "    <tr>\n",
       "      <th>3</th>\n",
       "      <td>1997-01-04</td>\n",
       "      <td>7.0</td>\n",
       "      <td>3.0</td>\n",
       "      <td>-1.0</td>\n",
       "      <td>-2.0</td>\n",
       "      <td>-3.0</td>\n",
       "      <td>-4.0</td>\n",
       "      <td>86.0</td>\n",
       "      <td>63.0</td>\n",
       "      <td>49.0</td>\n",
       "      <td>...</td>\n",
       "      <td>10.0</td>\n",
       "      <td>10.0</td>\n",
       "      <td>10.0</td>\n",
       "      <td>27</td>\n",
       "      <td>19</td>\n",
       "      <td>40.0</td>\n",
       "      <td>0.0</td>\n",
       "      <td>2.0</td>\n",
       "      <td>NaN</td>\n",
       "      <td>284</td>\n",
       "    </tr>\n",
       "    <tr>\n",
       "      <th>4</th>\n",
       "      <td>1997-01-05</td>\n",
       "      <td>2.0</td>\n",
       "      <td>0.0</td>\n",
       "      <td>-1.0</td>\n",
       "      <td>2.0</td>\n",
       "      <td>0.0</td>\n",
       "      <td>-3.0</td>\n",
       "      <td>100.0</td>\n",
       "      <td>95.0</td>\n",
       "      <td>86.0</td>\n",
       "      <td>...</td>\n",
       "      <td>10.0</td>\n",
       "      <td>5.0</td>\n",
       "      <td>1.0</td>\n",
       "      <td>14</td>\n",
       "      <td>6</td>\n",
       "      <td>NaN</td>\n",
       "      <td>0.0</td>\n",
       "      <td>7.0</td>\n",
       "      <td>Snow</td>\n",
       "      <td>2</td>\n",
       "    </tr>\n",
       "  </tbody>\n",
       "</table>\n",
       "<p>5 rows × 23 columns</p>\n",
       "</div>"
      ],
      "text/plain": [
       "         CET  Max TemperatureC  Mean TemperatureC  Min TemperatureC  \\\n",
       "0 1997-01-01               7.0                4.0               2.0   \n",
       "1 1997-01-02               7.0                3.0               0.0   \n",
       "2 1997-01-03               5.0                3.0               2.0   \n",
       "3 1997-01-04               7.0                3.0              -1.0   \n",
       "4 1997-01-05               2.0                0.0              -1.0   \n",
       "\n",
       "   Dew PointC  MeanDew PointC  Min DewpointC  Max Humidity   Mean Humidity  \\\n",
       "0         5.0             3.0            2.0         100.0            95.0   \n",
       "1         6.0             3.0            0.0         100.0            92.0   \n",
       "2         5.0             1.0           -1.0         100.0            85.0   \n",
       "3        -2.0            -3.0           -4.0          86.0            63.0   \n",
       "4         2.0             0.0           -3.0         100.0            95.0   \n",
       "\n",
       "    Min Humidity  ...   Max VisibilityKm   Mean VisibilityKm  \\\n",
       "0           76.0  ...               10.0                 9.0   \n",
       "1           71.0  ...               10.0                 9.0   \n",
       "2           70.0  ...               10.0                10.0   \n",
       "3           49.0  ...               10.0                10.0   \n",
       "4           86.0  ...               10.0                 5.0   \n",
       "\n",
       "    Min VisibilitykM   Max Wind SpeedKm/h   Mean Wind SpeedKm/h  \\\n",
       "0                4.0                   13                     6   \n",
       "1                4.0                   26                     8   \n",
       "2                7.0                   27                    19   \n",
       "3               10.0                   27                    19   \n",
       "4                1.0                   14                     6   \n",
       "\n",
       "    Max Gust SpeedKm/h  Precipitationmm   CloudCover     Events  \\\n",
       "0                  NaN              0.0          6.0        NaN   \n",
       "1                 47.0              0.0          5.0       Rain   \n",
       "2                  NaN              0.0          6.0  Rain-Snow   \n",
       "3                 40.0              0.0          2.0        NaN   \n",
       "4                  NaN              0.0          7.0       Snow   \n",
       "\n",
       "   WindDirDegrees  \n",
       "0             229  \n",
       "1             143  \n",
       "2             256  \n",
       "3             284  \n",
       "4               2  \n",
       "\n",
       "[5 rows x 23 columns]"
      ]
     },
     "execution_count": 5,
     "metadata": {},
     "output_type": "execute_result"
    }
   ],
   "source": [
    "df.head()"
   ]
  },
  {
   "cell_type": "code",
   "execution_count": 6,
   "metadata": {},
   "outputs": [
    {
     "name": "stdout",
     "output_type": "stream",
     "text": [
      "<class 'pandas.core.frame.DataFrame'>\n",
      "RangeIndex: 6812 entries, 0 to 6811\n",
      "Data columns (total 23 columns):\n",
      " #   Column                       Non-Null Count  Dtype         \n",
      "---  ------                       --------------  -----         \n",
      " 0   CET                          6812 non-null   datetime64[ns]\n",
      " 1   Max TemperatureC             6810 non-null   float64       \n",
      " 2   Mean TemperatureC            6809 non-null   float64       \n",
      " 3   Min TemperatureC             6810 non-null   float64       \n",
      " 4   Dew PointC                   6810 non-null   float64       \n",
      " 5   MeanDew PointC               6810 non-null   float64       \n",
      " 6   Min DewpointC                6810 non-null   float64       \n",
      " 7   Max Humidity                 6810 non-null   float64       \n",
      " 8    Mean Humidity               6810 non-null   float64       \n",
      " 9    Min Humidity                6810 non-null   float64       \n",
      " 10   Max Sea Level PressurehPa   6812 non-null   int64         \n",
      " 11   Mean Sea Level PressurehPa  6812 non-null   int64         \n",
      " 12   Min Sea Level PressurehPa   6812 non-null   int64         \n",
      " 13   Max VisibilityKm            5872 non-null   float64       \n",
      " 14   Mean VisibilityKm           5872 non-null   float64       \n",
      " 15   Min VisibilitykM            5872 non-null   float64       \n",
      " 16   Max Wind SpeedKm/h          6812 non-null   int64         \n",
      " 17   Mean Wind SpeedKm/h         6812 non-null   int64         \n",
      " 18   Max Gust SpeedKm/h          3506 non-null   float64       \n",
      " 19  Precipitationmm              6812 non-null   float64       \n",
      " 20   CloudCover                  5440 non-null   float64       \n",
      " 21   Events                      1798 non-null   object        \n",
      " 22  WindDirDegrees               6812 non-null   int64         \n",
      "dtypes: datetime64[ns](1), float64(15), int64(6), object(1)\n",
      "memory usage: 1.2+ MB\n"
     ]
    }
   ],
   "source": [
    "df.info()"
   ]
  },
  {
   "cell_type": "markdown",
   "metadata": {},
   "source": [
    "It looks like some of our column headers have preceding spaces which will get annoying.  There's also variability in how the column headers are named so I'm going to get all the column names in a more useable, pythonic form (all lowercase and underscores instead of spaces and no camel case):"
   ]
  },
  {
   "cell_type": "code",
   "execution_count": 7,
   "metadata": {},
   "outputs": [],
   "source": [
    "df.columns = list(map(lambda x: h.make_pythonic(x), df.columns))"
   ]
  },
  {
   "cell_type": "code",
   "execution_count": 8,
   "metadata": {},
   "outputs": [
    {
     "data": {
      "text/plain": [
       "Index(['cet', 'max_temperature_c', 'mean_temperature_c', 'min_temperature_c',\n",
       "       'dew_point_c', 'mean_dew_point_c', 'min_dewpoint_c', 'max_humidity',\n",
       "       'mean_humidity', 'min_humidity', 'max_sea_level_pressureh_pa',\n",
       "       'mean_sea_level_pressureh_pa', 'min_sea_level_pressureh_pa',\n",
       "       'max_visibility_km', 'mean_visibility_km', 'min_visibilityk_m',\n",
       "       'max_wind_speed_km/h', 'mean_wind_speed_km/h', 'max_gust_speed_km/h',\n",
       "       'precipitationmm', 'cloud_cover', 'events', 'wind_dir_degrees'],\n",
       "      dtype='object')"
      ]
     },
     "execution_count": 8,
     "metadata": {},
     "output_type": "execute_result"
    }
   ],
   "source": [
    "df.columns"
   ]
  },
  {
   "cell_type": "markdown",
   "metadata": {},
   "source": [
    "Let me just manually change that one........."
   ]
  },
  {
   "cell_type": "code",
   "execution_count": 12,
   "metadata": {},
   "outputs": [],
   "source": [
    "df.rename(columns = {'min_visibilityk_m': 'min_visibility_km'}, inplace = True);"
   ]
  },
  {
   "cell_type": "code",
   "execution_count": 13,
   "metadata": {},
   "outputs": [
    {
     "data": {
      "text/plain": [
       "Index(['cet', 'max_temperature_c', 'mean_temperature_c', 'min_temperature_c',\n",
       "       'dew_point_c', 'mean_dew_point_c', 'min_dewpoint_c', 'max_humidity',\n",
       "       'mean_humidity', 'min_humidity', 'max_sea_level_pressureh_pa',\n",
       "       'mean_sea_level_pressureh_pa', 'min_sea_level_pressureh_pa',\n",
       "       'max_visibility_km', 'mean_visibility_km', 'min_visibility_km',\n",
       "       'max_wind_speed_km/h', 'mean_wind_speed_km/h', 'max_gust_speed_km/h',\n",
       "       'precipitationmm', 'cloud_cover', 'events', 'wind_dir_degrees'],\n",
       "      dtype='object')"
      ]
     },
     "execution_count": 13,
     "metadata": {},
     "output_type": "execute_result"
    }
   ],
   "source": [
    "df.columns"
   ]
  },
  {
   "cell_type": "code",
   "execution_count": null,
   "metadata": {},
   "outputs": [],
   "source": []
  }
 ],
 "metadata": {
  "kernelspec": {
   "display_name": "cap-env",
   "language": "python",
   "name": "cap-env"
  },
  "language_info": {
   "codemirror_mode": {
    "name": "ipython",
    "version": 3
   },
   "file_extension": ".py",
   "mimetype": "text/x-python",
   "name": "python",
   "nbconvert_exporter": "python",
   "pygments_lexer": "ipython3",
   "version": "3.6.10"
  }
 },
 "nbformat": 4,
 "nbformat_minor": 4
}
